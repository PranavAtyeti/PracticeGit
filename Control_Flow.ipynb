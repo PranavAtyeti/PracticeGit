{
  "nbformat": 4,
  "nbformat_minor": 0,
  "metadata": {
    "colab": {
      "provenance": [],
      "authorship_tag": "ABX9TyOlCorcXsODx3lzvip097q0",
      "include_colab_link": true
    },
    "kernelspec": {
      "name": "python3",
      "display_name": "Python 3"
    },
    "language_info": {
      "name": "python"
    }
  },
  "cells": [
    {
      "cell_type": "markdown",
      "metadata": {
        "id": "view-in-github",
        "colab_type": "text"
      },
      "source": [
        "<a href=\"https://colab.research.google.com/github/PranavAtyeti/PracticeGit/blob/master/Control_Flow.ipynb\" target=\"_parent\"><img src=\"https://colab.research.google.com/assets/colab-badge.svg\" alt=\"Open In Colab\"/></a>"
      ]
    },
    {
      "cell_type": "markdown",
      "source": [
        "1.Conditional Statements: if, elif, else.\n",
        "\n",
        "2.Loops: for and while loops.\n",
        "\n",
        "3.Loop Control: break, continue, pass.\n",
        "\n",
        "4.Loop else clause: else clause after loops when no break occurs."
      ],
      "metadata": {
        "id": "NO7sGCmQIryF"
      }
    },
    {
      "cell_type": "markdown",
      "source": [
        "## If, elif, else\n"
      ],
      "metadata": {
        "id": "HKR_nhpwEYxI"
      }
    },
    {
      "cell_type": "code",
      "source": [
        "x = int(input(\"Enter number : \"))\n",
        "y = int(input(\"value to compare : \"))\n",
        "\n",
        "if(x > y):  #condition\n",
        "  print(f\"x is greater than {y}\")  #code block executed when condition is met\n",
        "elif(x<y):\n",
        "  print(f\"x is smaller than {y}\") #executed when current condition is satisfied and above conditions are not satisfied\n",
        "else:\n",
        "  print(\"Thank You\")"
      ],
      "metadata": {
        "id": "Kom-b2A7Eet7",
        "colab": {
          "base_uri": "https://localhost:8080/"
        },
        "outputId": "5d630323-fddd-4fce-e373-8ca66e4d9d30"
      },
      "execution_count": null,
      "outputs": [
        {
          "output_type": "stream",
          "name": "stdout",
          "text": [
            "Enter number : 5\n",
            "value to compare : 5\n",
            "Thank You\n"
          ]
        }
      ]
    },
    {
      "cell_type": "markdown",
      "source": [
        "## loops"
      ],
      "metadata": {
        "id": "GKSKfn7lEij9"
      }
    },
    {
      "cell_type": "code",
      "source": [
        "for i in range(1,11): # start, end, increment is specified\n",
        "  print(i)\n",
        "\n",
        "while(i>0): # while is used when number of iterations are not known but end condition is specified\n",
        "  print(i)\n",
        "  i-=1"
      ],
      "metadata": {
        "id": "0_CLQhTXEmCs",
        "colab": {
          "base_uri": "https://localhost:8080/"
        },
        "outputId": "19a69dae-a914-42c8-dd0f-807fcadbf2d2"
      },
      "execution_count": null,
      "outputs": [
        {
          "output_type": "stream",
          "name": "stdout",
          "text": [
            "1\n",
            "2\n",
            "3\n",
            "4\n",
            "5\n",
            "6\n",
            "7\n",
            "8\n",
            "9\n",
            "10\n",
            "10\n",
            "9\n",
            "8\n",
            "7\n",
            "6\n",
            "5\n",
            "4\n",
            "3\n",
            "2\n",
            "1\n"
          ]
        }
      ]
    },
    {
      "cell_type": "markdown",
      "source": [
        "## loop control"
      ],
      "metadata": {
        "id": "C_IHCQEWEpTX"
      }
    },
    {
      "cell_type": "code",
      "source": [
        "for i in range(1,11):\n",
        "\n",
        "  if(i==3):\n",
        "    pass   # used as a placeholder for code\n",
        "  print(i)\n",
        "\n",
        "  if(i==4):\n",
        "    continue # skips the code below and continue loop\n",
        "  print(i)\n",
        "\n",
        "  if(i==5):\n",
        "    break  # used to terminate the loop before it is completed\n",
        "  print(i)"
      ],
      "metadata": {
        "id": "F7YSlGgLEsKv",
        "colab": {
          "base_uri": "https://localhost:8080/"
        },
        "outputId": "a55adf00-21a7-4b69-ebbd-59a602507a73"
      },
      "execution_count": null,
      "outputs": [
        {
          "output_type": "stream",
          "name": "stdout",
          "text": [
            "1\n",
            "1\n",
            "1\n",
            "2\n",
            "2\n",
            "2\n",
            "3\n",
            "3\n",
            "3\n",
            "4\n",
            "5\n",
            "5\n"
          ]
        }
      ]
    },
    {
      "cell_type": "code",
      "source": [
        "for i in range(5):\n",
        "  print(i)\n",
        "else: # executed when a loop is fully completed, else part is skipped when loop is terminated prematurely\n",
        "  print(\"loop completed succesfully\")"
      ],
      "metadata": {
        "id": "NaAABkj9phgK",
        "colab": {
          "base_uri": "https://localhost:8080/"
        },
        "outputId": "95d3dcd0-431d-4afc-be5c-a0fd5a63a118"
      },
      "execution_count": 2,
      "outputs": [
        {
          "output_type": "stream",
          "name": "stdout",
          "text": [
            "0\n",
            "1\n",
            "2\n",
            "3\n",
            "4\n",
            "loop completed succesfully\n"
          ]
        }
      ]
    },
    {
      "cell_type": "code",
      "source": [],
      "metadata": {
        "id": "61Be277iPzYz"
      },
      "execution_count": null,
      "outputs": []
    }
  ]
}